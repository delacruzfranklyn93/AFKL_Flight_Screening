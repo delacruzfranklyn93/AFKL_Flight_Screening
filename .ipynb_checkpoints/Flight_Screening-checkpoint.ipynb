{
 "cells": [
  {
   "cell_type": "code",
   "execution_count": 3,
   "id": "floral-bidder",
   "metadata": {},
   "outputs": [],
   "source": [
    "from bs4 import BeautifulSoup as bs\n",
    "import requests\n",
    "import pymongo\n",
    "from webdriver_manager.chrome import ChromeDriverManager\n",
    "from splinter import Browser\n",
    "import pandas as pd\n",
    "import json\n",
    "import html5lib\n",
    "import time"
   ]
  },
  {
   "cell_type": "code",
   "execution_count": 4,
   "id": "physical-vessel",
   "metadata": {},
   "outputs": [
    {
     "name": "stderr",
     "output_type": "stream",
     "text": [
      "[WDM] - ====== WebDriver manager ======\n",
      "[WDM] - Current google-chrome version is 90.0.4430\n",
      "[WDM] - Get LATEST driver version for 90.0.4430\n"
     ]
    },
    {
     "name": "stdout",
     "output_type": "stream",
     "text": [
      "\n",
      "\n"
     ]
    },
    {
     "name": "stderr",
     "output_type": "stream",
     "text": [
      "[WDM] - Driver [C:\\Users\\delac\\.wdm\\drivers\\chromedriver\\win32\\90.0.4430.24\\chromedriver.exe] found in cache\n"
     ]
    }
   ],
   "source": [
    "#setup splinter\n",
    "executable_path = {'executable_path': ChromeDriverManager().install()}\n",
    "browser = Browser('chrome', **executable_path, headless=False)"
   ]
  },
  {
   "cell_type": "markdown",
   "id": "14689e90",
   "metadata": {},
   "source": [
    "# Retrieve the CSV's and Convert to DataFrames"
   ]
  },
  {
   "cell_type": "code",
   "execution_count": 5,
   "id": "multiple-tunisia",
   "metadata": {},
   "outputs": [],
   "source": [
    "# Setup the URL to visit\n",
    "url = 'https://aflsbkg.airfrance.fr/'\n",
    "\n",
    "# Visit the URL\n",
    "browser.visit(url)"
   ]
  },
  {
   "cell_type": "code",
   "execution_count": 10,
   "id": "f57f1460",
   "metadata": {},
   "outputs": [
    {
     "name": "stdout",
     "output_type": "stream",
     "text": [
      "What day(s) do you wish to screen24\n",
      "Input the month in 3 word format (Ex = Apr)may\n"
     ]
    }
   ],
   "source": [
    "AF = [\"ORD\", \"CDG\"]\n",
    "KL =  [\"ORD\", \"AMS\"]\n",
    "day = list(map(int, input(\"What day(s) do you wish to screen\").split(\",\")))\n",
    "month = input(\"Input the month in 3 word format (Ex = Apr)\").title()\n",
    "year = \"2021\""
   ]
  },
  {
   "cell_type": "code",
   "execution_count": 11,
   "id": "distant-startup",
   "metadata": {},
   "outputs": [],
   "source": [
    "# navigate to the correct webpage for CSV download\n",
    "browser.links.find_by_partial_text('Booking').click()\n",
    "browser.links.find_by_partial_text('Search').click()\n",
    "\n",
    "time.sleep(3.00)\n",
    "\n",
    "# fill the flight number and date input field\n",
    "browser.fill(\"bookingSearch.bkgOrigin\", f\"{AF[0]}\")\n",
    "browser.fill(\"bookingSearch.bkgDestination\", f\"{AF[1]}\")\n",
    "browser.fill(\"bookingSearch.legTenderDate\", f\"{day[0]}/{month}/{year}\")\n",
    "\n",
    "# filter the search for the flight needed\n",
    "browser.links.find_by_partial_text('Filter').click()\n",
    "\n",
    "time.sleep(3.00)\n",
    "\n",
    "browser.click_link_by_id('FILTER_EXPAND_COLLAPSE')\n",
    "\n",
    "time.sleep(3.00)\n",
    "\n",
    "browser.links.find_by_partial_text('Download').click()\n",
    "\n",
    "time.sleep(3.00)\n",
    "\n",
    "# import the CSV file that was downloaded\n",
    "df = pd.read_csv(r\"C:\\Users\\delac\\Downloads\\bookList.csv\", index_col= False)"
   ]
  },
  {
   "cell_type": "markdown",
   "id": "20612c04",
   "metadata": {},
   "source": [
    "# Filter the Dataframe"
   ]
  },
  {
   "cell_type": "code",
   "execution_count": 42,
   "id": "3ac8e7a6",
   "metadata": {},
   "outputs": [],
   "source": [
    "# Select the columns you want to display and store in a list\n",
    "\n",
    "columns = [\"Prefix\", \"AWB Number\", \"Origin\",\"Destination\",\"Commodity\", \\\n",
    "           \"Product\",\"Pieces\", \"Weight\",\"Volume\",\"Issuer\",\"Flight Info\"]\n",
    "\n",
    "# Filter the AWB's by  weight and volume \n",
    "df = df[(df.Weight > 1000) & (df.Volume.astype(\"float\") > 10.00)][columns]\n",
    "\n",
    "# Filter the AWB's by prdocut\n",
    "df = df[~df.Product.str.contains(\"S50|S51|S52|S53\", na = False)].dropna()\n"
   ]
  },
  {
   "cell_type": "code",
   "execution_count": 8,
   "id": "cf7e7ea5",
   "metadata": {},
   "outputs": [
    {
     "name": "stdout",
     "output_type": "stream",
     "text": [
      "What is the number2,3,4\n"
     ]
    }
   ],
   "source": [
    "x = list(map(int, input(\"What is the number\").split(\",\")))"
   ]
  },
  {
   "cell_type": "code",
   "execution_count": 9,
   "id": "dc703ddd",
   "metadata": {},
   "outputs": [
    {
     "data": {
      "text/plain": [
       "[2, 3, 4]"
      ]
     },
     "execution_count": 9,
     "metadata": {},
     "output_type": "execute_result"
    }
   ],
   "source": []
  },
  {
   "cell_type": "code",
   "execution_count": null,
   "id": "b17c75ee",
   "metadata": {},
   "outputs": [],
   "source": [
    "print(\"hi\")"
   ]
  },
  {
   "cell_type": "code",
   "execution_count": null,
   "id": "b805fb52",
   "metadata": {},
   "outputs": [],
   "source": []
  }
 ],
 "metadata": {
  "kernelspec": {
   "display_name": "PythonData",
   "language": "python",
   "name": "pythondata"
  },
  "language_info": {
   "codemirror_mode": {
    "name": "ipython",
    "version": 3
   },
   "file_extension": ".py",
   "mimetype": "text/x-python",
   "name": "python",
   "nbconvert_exporter": "python",
   "pygments_lexer": "ipython3",
   "version": "3.6.13"
  }
 },
 "nbformat": 4,
 "nbformat_minor": 5
}
